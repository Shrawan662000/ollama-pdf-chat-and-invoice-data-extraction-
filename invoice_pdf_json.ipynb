{
 "cells": [
  {
   "cell_type": "code",
   "execution_count": 2,
   "metadata": {},
   "outputs": [],
   "source": [
    "\n",
    "from langchain_community.chat_models import ChatOllama\n"
   ]
  },
  {
   "cell_type": "code",
   "execution_count": 20,
   "metadata": {},
   "outputs": [],
   "source": [
    "import PyPDF2\n",
    "\n",
    "file_path=\"Payslip_HRM3494_Nov_2023.pdf\"\n",
    "with open(file_path, 'rb') as file:\n",
    "                pdf_reader = PyPDF2.PdfReader(file)\n",
    "                resume_text = \"\"\n",
    "                for page_num in range(len(pdf_reader.pages)):\n",
    "                    page = pdf_reader.pages[page_num]\n",
    "                    resume_text += page.extract_text()\n",
    "context=resume_text"
   ]
  },
  {
   "cell_type": "code",
   "execution_count": 21,
   "metadata": {},
   "outputs": [],
   "source": [
    "from langchain import PromptTemplate\n",
    "\n",
    "\n",
    "template = \"\"\"You are an AI language model assistant. Your task is to extarct the json format in key-value pair for given text as context. you are restricted to only extract the json text based ONLY on the following context:\n",
    "{context}\n",
    "\n",
    "\"\"\"\n",
    "\n",
    "\n",
    "input_prompt = PromptTemplate(input_variables=[\"context\"], template=template)\n"
   ]
  },
  {
   "cell_type": "markdown",
   "metadata": {},
   "source": [
    "### using llama2"
   ]
  },
  {
   "cell_type": "code",
   "execution_count": 22,
   "metadata": {},
   "outputs": [],
   "source": [
    "# LLM from Ollama\n",
    "llama2_model = \"llama2\"\n",
    "llm = ChatOllama(model=llama2_model, format=\"json\", temperature=0)\n",
    " "
   ]
  },
  {
   "cell_type": "code",
   "execution_count": 23,
   "metadata": {},
   "outputs": [],
   "source": [
    "from langchain import LLMChain\n",
    "\n",
    "\n",
    "llm_chain = LLMChain(prompt=input_prompt, llm=llm)\n",
    "\n",
    "json_response=llm_chain.run({\"context\" : context})"
   ]
  },
  {
   "cell_type": "code",
   "execution_count": 24,
   "metadata": {},
   "outputs": [
    {
     "name": "stdout",
     "output_type": "stream",
     "text": [
      "{\n",
      "\"Employee Name\": \"Shrawan Kumar Kumawat\",\n",
      "\"Designation\": \"Trainee\",\n",
      "\"Date of Joining\": \"01/09/2023\",\n",
      "\"Pay Period\": \"November 2023\",\n",
      "\"Pay Date\": \"01/12/2023\",\n",
      "\"PF A/C Number\": \"RJ/RAJ/1681093/000/0012781\",\n",
      "\"UAN\": \"101991017087\",\n",
      "\"ESI Number\": \"1513166683\",\n",
      "\"Bank Account No\": \"675601709172\",\n",
      "\"Employee Net Pay\": \"₹13,094.00\",\n",
      "\"Paid Days\": \"30\",\n",
      "\"LOP Days\": \"0\",\n",
      "\"Earnings Amount YTD\": {\n",
      "\"Basic\": \"₹7,500.00\",\n",
      "\"House Rent Allowance\": \"₹3,000.00\",\n",
      "\"Bonus\": \"₹1,500.00\",\n",
      "\"Fixed Allowance\": \"₹2,100.00\"\n",
      "},\n",
      "\"Deductions Amount YTD\": {\n",
      "\"EPF Contribution\": \"₹900.00\",\n",
      "\"Employee State Insurance\": \"₹106.00\",\n",
      "\"Gross Earnings\": \"₹14,100.00\"\n",
      "},\n",
      "\"Total Net Payable\": \"₹13,094.00\"\n",
      "}\n"
     ]
    }
   ],
   "source": [
    "print(json_response)"
   ]
  },
  {
   "cell_type": "markdown",
   "metadata": {},
   "source": [
    "#### using llama3 model\n"
   ]
  },
  {
   "cell_type": "code",
   "execution_count": 25,
   "metadata": {},
   "outputs": [],
   "source": [
    "from langchain import LLMChain\n",
    "\n",
    "llama3_model = \"llama3\"\n",
    "llm = ChatOllama(model=llama3_model, format=\"json\", temperature=0)\n",
    "\n",
    "llm_chain = LLMChain(prompt=input_prompt, llm=llm)\n",
    "\n",
    "json_response_llama3=llm_chain.run({\"context\" : context})\n"
   ]
  },
  {
   "cell_type": "code",
   "execution_count": 26,
   "metadata": {},
   "outputs": [
    {
     "name": "stdout",
     "output_type": "stream",
     "text": [
      "{ \"Company\": \"Celebal Technologies Private Limited\", \n",
      "  \"Address\": \"2/63, SFS, Jaipur Rajasthan 302020 India\",\n",
      "  \"Payslip\": {\n",
      "    \"Employee\": {\n",
      "      \"Name\": \"Shrawan Kumar Kumawat\", \n",
      "      \"HRM Number\": \"HRM34.94\", \n",
      "      \"Designation\": \"Trainee\", \n",
      "      \"Date of Joining\": \"01/09/2023\"\n",
      "    }, \n",
      "    \"Pay Period\": \"November 2023\", \n",
      "    \"Pay Date\": \"01/12/2023\", \n",
      "    \"PF Account Number\": \"RJ/RAJ/16810.93/000/0012781\", \n",
      "    \"UAN\": \"101991017087\", \n",
      "    \"ESI Number\": \"1513166683\", \n",
      "    \"Bank Account Number\": \"675601709172\"\n",
      "  }, \n",
      "  \"Employee Net Pay\": {\n",
      "    \"Amount\": \"₹13,094.00\", \n",
      "    \"Paid Days\": \"30\", \n",
      "    \"LOP Days\": \"0\"\n",
      "  }, \n",
      "  \"Earnings\": {\n",
      "    \"Basic\": {\n",
      "      \"Amount\": \"₹7,500.00\", \n",
      "      \"YTD Amount\": \"₹22,500.00\"\n",
      "    }, \n",
      "    \"House Rent Allowance\": {\n",
      "      \"Amount\": \"₹3,000.00\", \n",
      "      \"YTD Amount\": \"₹9,000.00\"\n",
      "    }, \n",
      "    \"Bonus\": {\n",
      "      \"Amount\": \"₹1,500.00\", \n",
      "      \"YTD Amount\": \"₹4,500.00\"\n",
      "    }, \n",
      "    \"Fixed Allowance\": {\n",
      "      \"Amount\": \"₹2,100.00\", \n",
      "      \"YTD Amount\": \"₹6,300.00\"\n",
      "    }\n",
      "  }, \n",
      "  \"Deductions\": {\n",
      "    \"EPF Contribution\": {\n",
      "      \"Amount\": \"₹900.00\", \n",
      "      \"YTD Amount\": \"₹2,700.00\"\n",
      "    }, \n",
      "    \"Employee State Insurance\": {\n",
      "      \"Amount\": \"₹106.00\", \n",
      "      \"YTD Amount\": \"₹318.00\"\n",
      "    }\n",
      "  }, \n",
      "  \"Gross Earnings\": \"₹14,100.00\", \n",
      "  \"Total Deductions\": \"₹1,006.00\", \n",
      "  \"Total Net Payable\": \"₹13,094.00\" \n",
      "} \n",
      "\n",
      "  \n",
      "\n",
      "\n",
      "\n",
      "\n",
      "\n",
      "  \n",
      "\n",
      "\n",
      "\n",
      "\n",
      "\n",
      "  \n",
      "\n",
      "\n",
      "\n",
      "\n",
      "\n",
      "  \n",
      "\n",
      "\n",
      "\n",
      "\n",
      "\n",
      "  \n",
      "\n",
      "\n",
      "\n",
      "\n",
      "\n",
      "  \n",
      "\n",
      "\n",
      "\n",
      "\n",
      "\n",
      "  \n",
      "\n",
      "\n",
      "\n",
      "\n",
      "\n",
      "  \n",
      "\n",
      "\n",
      "\n",
      "\n",
      "\n",
      "  \n",
      "\n",
      "\n",
      "\n",
      "\n",
      "\n",
      "  \n",
      "\n",
      "\n",
      "\n",
      "\n",
      "\n",
      "\n"
     ]
    }
   ],
   "source": [
    "print(json_response_llama3) "
   ]
  },
  {
   "cell_type": "markdown",
   "metadata": {},
   "source": [
    "#### using gemma"
   ]
  },
  {
   "cell_type": "code",
   "execution_count": 27,
   "metadata": {},
   "outputs": [
    {
     "name": "stdout",
     "output_type": "stream",
     "text": [
      "{\n",
      "  \"Employee Name\": \"Shrawan Kumar Kumawat\",\n",
      "  \"Designation\": \"Trainee\",\n",
      "  \"Date of Joining\": \"01/09/2023\",\n",
      "  \"Pay Period\": \"November 2023\",\n",
      "  \"Pay Date\": \"01/12/2023\",\n",
      "  \"PF A/C Number\": \"RJ/RAJ/1681093/000/0012781\",\n",
      "  \"UAN\": \"101991017087\",\n",
      "  \"ESI Number\": \"1513166683\",\n",
      "  \"Bank Account No\": \"675601709172\",\n",
      "  \"Employee Net Pay\": \"₹13,094.00\"\n",
      "}\n"
     ]
    }
   ],
   "source": [
    "\n",
    "from langchain import LLMChain\n",
    "\n",
    "gemma_model = \"gemma:2b\"\n",
    "llm = ChatOllama(model=gemma_model, format=\"json\", temperature=0)\n",
    "\n",
    "llm_chain = LLMChain(prompt=input_prompt, llm=llm)\n",
    "\n",
    "json_response_gemma=llm_chain.run({\"context\" : context})\n",
    "print(json_response_gemma)"
   ]
  },
  {
   "cell_type": "code",
   "execution_count": null,
   "metadata": {},
   "outputs": [],
   "source": []
  },
  {
   "cell_type": "markdown",
   "metadata": {},
   "source": [
    "#### using system message"
   ]
  },
  {
   "cell_type": "code",
   "execution_count": 34,
   "metadata": {},
   "outputs": [
    {
     "name": "stdout",
     "output_type": "stream",
     "text": [
      "Here is the JSON format in key-value pair based on the given context:\n",
      "```json\n",
      "{\n",
      "  \"Employee Name\": \"Shrawan Kumar Kumawat\",\n",
      "  \"Designation\": \"Trainee\",\n",
      "  \"Date of Joining\": \"01/09/2023\",\n",
      "  \"Pay Period\": \"November 2023\",\n",
      "  \"Pay Date\": \"01/12/2023\",\n",
      "  \"PF A/C Number\": \"RJ/RAJ/1681093/000/0012781\",\n",
      "  \"UAN\": \"101991017087\",\n",
      "  \"ESI Number\": \"1513166683\",\n",
      "  \"Bank Account No\": \"675601709172\",\n",
      "  \"Employee Net Pay\": \"₹13,094.00\",\n",
      "  \"Paid Days\": \"30\",\n",
      "  \"LOP Days\": \"0\",\n",
      "  \"Earnings Amount YTD\": {\n",
      "    \"Basic\": \"₹7,500.00\",\n",
      "    \"House Rent Allowance\": \"₹3,000.00\",\n",
      "    \"Bonus\": \"₹1,500.00\",\n",
      "    \"Fixed Allowance\": \"₹2,100.00\"\n",
      "  },\n",
      "  \"Deductions Amount YTD\": {\n",
      "    \"EPF Contribution\": \"₹900.00\",\n",
      "    \"Employee State Insurance\": \"₹106.00\",\n",
      "    \"Total Deductions\": \"₹1,006.00\"\n",
      "  },\n",
      "  \"Gross Earnings YTD\": \"₹14,100.00\",\n",
      "  \"Total Net Payable\": \"₹13,094.00\"\n",
      "}\n",
      "```\n",
      "Note that some of the values are represented as strings, while others are represented as numbers. Also, some values are represented as objects with key-value pairs, while others are represented as arrays.\n"
     ]
    }
   ],
   "source": [
    "\n",
    "# Importing the required library (ollama)\n",
    "import ollama\n",
    "\n",
    "# Setting up the model, enabling streaming responses, and defining the input messages\n",
    "ollama_response = ollama.chat(model='llama2', messages=[\n",
    "   {\n",
    "     'role': 'system',\n",
    "     'content': 'You are an AI language model assistant. Your task is to extarct the json format in key-value pair for given text as context. you are restricted to only extract the json text based ONLY on the following context:',\n",
    "   },\n",
    "   {\n",
    "     'role': 'user',\n",
    "     'content': context,\n",
    "   },\n",
    "])\n",
    "# Printing out of the generated response\n",
    "print(ollama_response['message']['content'])\n"
   ]
  },
  {
   "cell_type": "markdown",
   "metadata": {},
   "source": [
    "### llama2 results are good than all, llama3 also but it is expensive"
   ]
  },
  {
   "cell_type": "markdown",
   "metadata": {},
   "source": []
  },
  {
   "cell_type": "markdown",
   "metadata": {},
   "source": [
    "### ollama using API"
   ]
  },
  {
   "cell_type": "code",
   "execution_count": 42,
   "metadata": {},
   "outputs": [],
   "source": [
    "import ollama\n",
    "\n",
    "# Replace \"llama3\" with the desired model name (check available models using ollama.list())\n",
    "model_name = \"llama3\"\n",
    "prompt = \"Why is the sky blue?\"\n",
    "\n",
    "response = ollama.generate(model=model_name, prompt=prompt)\n"
   ]
  }
 ],
 "metadata": {
  "kernelspec": {
   "display_name": ".venv",
   "language": "python",
   "name": "python3"
  },
  "language_info": {
   "codemirror_mode": {
    "name": "ipython",
    "version": 3
   },
   "file_extension": ".py",
   "mimetype": "text/x-python",
   "name": "python",
   "nbconvert_exporter": "python",
   "pygments_lexer": "ipython3",
   "version": "3.11.5"
  }
 },
 "nbformat": 4,
 "nbformat_minor": 2
}
