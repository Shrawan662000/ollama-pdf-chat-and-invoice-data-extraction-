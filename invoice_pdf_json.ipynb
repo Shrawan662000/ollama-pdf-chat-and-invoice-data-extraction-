{
 "cells": [
  {
   "cell_type": "code",
   "execution_count": 2,
   "metadata": {},
   "outputs": [],
   "source": [
    "\n",
    "from langchain_community.chat_models import ChatOllama\n"
   ]
  },
  {
   "cell_type": "code",
   "execution_count": 12,
   "metadata": {},
   "outputs": [],
   "source": [
    "import PyPDF2\n",
    "\n",
    "file_path=\"Invoice-Template.pdf\"\n",
    "with open(file_path, 'rb') as file:\n",
    "                pdf_reader = PyPDF2.PdfReader(file)\n",
    "                resume_text = \"\"\n",
    "                for page_num in range(len(pdf_reader.pages)):\n",
    "                    page = pdf_reader.pages[page_num]\n",
    "                    resume_text += page.extract_text()\n",
    "context=resume_text"
   ]
  },
  {
   "cell_type": "code",
   "execution_count": 13,
   "metadata": {},
   "outputs": [],
   "source": [
    "from langchain import PromptTemplate\n",
    "\n",
    "\n",
    "template = \"\"\"You are an AI language model assistant. Your task is to extarct the json format in key-value pair for given text as context. you are restricted to only extract the json text based ONLY on the following context:\n",
    "{context}\n",
    "\n",
    "\"\"\"\n",
    "\n",
    "\n",
    "input_prompt = PromptTemplate(input_variables=[\"context\"], template=template)\n"
   ]
  },
  {
   "cell_type": "markdown",
   "metadata": {},
   "source": [
    "### using llama2"
   ]
  },
  {
   "cell_type": "code",
   "execution_count": 14,
   "metadata": {},
   "outputs": [],
   "source": [
    "# LLM from Ollama\n",
    "llama2_model = \"llama2\"\n",
    "llm = ChatOllama(model=llama2_model, format=\"json\", temperature=0)\n",
    " "
   ]
  },
  {
   "cell_type": "code",
   "execution_count": 15,
   "metadata": {},
   "outputs": [],
   "source": [
    "from langchain import LLMChain\n",
    "\n",
    "\n",
    "llm_chain = LLMChain(prompt=input_prompt, llm=llm)\n",
    "\n",
    "json_response=llm_chain.run({\"context\" : context})"
   ]
  },
  {
   "cell_type": "code",
   "execution_count": 16,
   "metadata": {},
   "outputs": [
    {
     "name": "stdout",
     "output_type": "stream",
     "text": [
      "{\n",
      "\"Tax invoice\": true,\n",
      "\"Bill To\": [\"Customer name\", \"Customer address\", \"Customer phone\"],\n",
      "\"Due Date\": [\"Invoice date\"],\n",
      "\"Customer GSTN\": [\"GST number\"],\n",
      "\"ID Description\": [\"Quantity HSN code\"],\n",
      "\"Rate Amount\": [\"Sub total\", \"Discount\", \"Tax\", \"Shipping\"],\n",
      "\"Payment Details\": [\"Previous dues\"],\n",
      "\"Total\": [\"Invoice total\"],\n",
      "\"Account name\": [\"Account name\"],\n",
      "\"Account number\": [\"Account number\"],\n",
      "\"Bank name\": [\"Bank name\"],\n",
      "\"IFSC code\": [\"IFSC code\"],\n",
      "\"Bill date\": [\"Bill date\"]\n",
      "}\n"
     ]
    }
   ],
   "source": [
    "print(json_response)"
   ]
  },
  {
   "cell_type": "markdown",
   "metadata": {},
   "source": [
    "#### using llama3 model\n"
   ]
  },
  {
   "cell_type": "code",
   "execution_count": 17,
   "metadata": {},
   "outputs": [],
   "source": [
    "from langchain import LLMChain\n",
    "\n",
    "llama3_model = \"llama3\"\n",
    "llm = ChatOllama(model=llama3_model, format=\"json\", temperature=0)\n",
    "\n",
    "llm_chain = LLMChain(prompt=input_prompt, llm=llm)\n",
    "\n",
    "json_response_llama3=llm_chain.run({\"context\" : context})\n"
   ]
  },
  {
   "cell_type": "code",
   "execution_count": 18,
   "metadata": {},
   "outputs": [
    {
     "name": "stdout",
     "output_type": "stream",
     "text": [
      "{ \"Tax Invoice\": \"\", \n",
      "\"Bill To\": \"\",\n",
      "\"Due Date\": \"\",\n",
      "\"Customer GSTN\": \"\",\n",
      "\"ID\": \"\",\n",
      "\"Description\": \"\",\n",
      "\"Rate\": \"\",\n",
      "\"Amount\": \"\",\n",
      "\"Payment Details\": {\n",
      "  \"Sub total\": \"\",\n",
      "  \"Discount\": \"\"\n",
      "},\n",
      "\"Tax Rate\": \"\",\n",
      "\"Tax\": \"\",\n",
      "\"Shipping\": \"\",\n",
      "\"Previous dues\": \"\",\n",
      "\"Total\": \"\",\n",
      "\"Customer name\": \"\",\n",
      "\"Customer address\": \"\",\n",
      "\"Customer phone\": \"\",\n",
      "\"Invoice Date\": \"\",\n",
      "\"Account name\": \"\",\n",
      "\"Account number\": \"\",\n",
      "\"Bank name\": \"\",\n",
      "\"IFSC code\": \"\",\n",
      "\"Invoice number\": \"\",\n",
      "\"Bill date\": \"\",\n",
      "\"GST number\": \"\",\n",
      "\"Quantity\": \"\",\n",
      "\"HSN code\": \"\"\n",
      "}\n",
      "\n",
      " \n",
      " \n",
      "\n",
      " \n",
      "\n",
      " \n",
      "\n",
      " \n",
      "\n",
      " \n",
      "\n",
      " \n",
      "\n",
      " \n",
      "\n",
      " \n",
      "\n",
      " \n",
      "\n",
      " \n",
      "\n",
      " \n",
      "\n",
      " \n",
      "\n",
      " \n",
      "\n",
      " \n",
      "\n",
      " \n",
      "\n",
      " \n",
      "\n",
      " \n",
      "\n",
      " \n",
      "\n",
      " \n",
      "\n",
      " \n",
      "\n",
      " \n",
      "\n",
      " \n",
      "\n",
      " \n",
      "\n",
      " \n",
      "\n",
      " \n",
      "\n",
      " \n",
      "\n",
      " \n",
      "\n",
      " \n",
      "\n",
      " \n",
      "\n",
      " \n",
      "\n",
      "\n"
     ]
    }
   ],
   "source": [
    "print(json_response_llama3)"
   ]
  },
  {
   "cell_type": "markdown",
   "metadata": {},
   "source": [
    "#### using gemma"
   ]
  },
  {
   "cell_type": "code",
   "execution_count": 19,
   "metadata": {},
   "outputs": [
    {
     "name": "stdout",
     "output_type": "stream",
     "text": [
      "{\n",
      "  \"Tax Invoice\": {\n",
      "    \"Bill To\": null,\n",
      "    \"Due Date\": null,\n",
      "    \"Customer GSTN\": null,\n",
      "    \"ID Description\": null,\n",
      "    \"Rate\": null,\n",
      "    \"Amount\": null,\n",
      "    \"Payment Details\": null,\n",
      "    \"Discoun t\": null,\n",
      "    \"Tax Rate\": null,\n",
      "    \"Tax\": null,\n",
      "    \"Shipping\": null,\n",
      "    \"Previous dues\": null,\n",
      "    \"Total\": null,\n",
      "    \"Customer name\": null,\n",
      "    \"Customer address\": null,\n",
      "    \"Customer phone\": null,\n",
      "    \"Invoice Date\": null,\n",
      "    \"Account name\": null,\n",
      "    \"Account number\": null,\n",
      "    \"Bank name\": null,\n",
      "    \"IFSC code\": null,\n",
      "    \"Bill date\": null,\n",
      "    \"GST number\": null,\n",
      "    \"Quantity HSN code\": null\n",
      "  }\n",
      "}\n"
     ]
    }
   ],
   "source": [
    "\n",
    "from langchain import LLMChain\n",
    "\n",
    "gemma_model = \"gemma:2b\"\n",
    "llm = ChatOllama(model=gemma_model, format=\"json\", temperature=0)\n",
    "\n",
    "llm_chain = LLMChain(prompt=input_prompt, llm=llm)\n",
    "\n",
    "json_response_gemma=llm_chain.run({\"context\" : context})\n",
    "print(json_response_gemma)"
   ]
  },
  {
   "cell_type": "code",
   "execution_count": null,
   "metadata": {},
   "outputs": [],
   "source": []
  },
  {
   "cell_type": "code",
   "execution_count": null,
   "metadata": {},
   "outputs": [],
   "source": []
  },
  {
   "cell_type": "code",
   "execution_count": null,
   "metadata": {},
   "outputs": [],
   "source": []
  }
 ],
 "metadata": {
  "kernelspec": {
   "display_name": ".venv",
   "language": "python",
   "name": "python3"
  },
  "language_info": {
   "codemirror_mode": {
    "name": "ipython",
    "version": 3
   },
   "file_extension": ".py",
   "mimetype": "text/x-python",
   "name": "python",
   "nbconvert_exporter": "python",
   "pygments_lexer": "ipython3",
   "version": "3.11.5"
  }
 },
 "nbformat": 4,
 "nbformat_minor": 2
}
